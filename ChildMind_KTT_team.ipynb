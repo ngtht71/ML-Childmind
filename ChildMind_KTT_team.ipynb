{
  "metadata": {
    "kernelspec": {
      "language": "python",
      "display_name": "Python 3",
      "name": "python3"
    },
    "language_info": {
      "name": "python",
      "version": "3.10.14",
      "mimetype": "text/x-python",
      "codemirror_mode": {
        "name": "ipython",
        "version": 3
      },
      "pygments_lexer": "ipython3",
      "nbconvert_exporter": "python",
      "file_extension": ".py"
    },
    "kaggle": {
      "accelerator": "nvidiaTeslaT4",
      "dataSources": [
        {
          "sourceId": 81933,
          "databundleVersionId": 9643020,
          "sourceType": "competition"
        }
      ],
      "dockerImageVersionId": 30805,
      "isInternetEnabled": false,
      "language": "python",
      "sourceType": "notebook",
      "isGpuEnabled": true
    },
    "colab": {
      "provenance": [],
      "include_colab_link": true
    }
  },
  "nbformat_minor": 0,
  "nbformat": 4,
  "cells": [
    {
      "cell_type": "markdown",
      "metadata": {
        "id": "view-in-github",
        "colab_type": "text"
      },
      "source": [
        "<a href=\"https://colab.research.google.com/github/ngtht71/ML-Childmind/blob/main/ChildMind_KTT_team.ipynb\" target=\"_parent\"><img src=\"https://colab.research.google.com/assets/colab-badge.svg\" alt=\"Open In Colab\"/></a>"
      ]
    },
    {
      "source": [
        "# IMPORTANT: SOME KAGGLE DATA SOURCES ARE PRIVATE\n",
        "# RUN THIS CELL IN ORDER TO IMPORT YOUR KAGGLE DATA SOURCES.\n",
        "import kagglehub\n",
        "kagglehub.login()\n"
      ],
      "metadata": {
        "id": "TlQUzXfLdcPD"
      },
      "cell_type": "code",
      "outputs": [],
      "execution_count": null
    },
    {
      "source": [
        "# IMPORTANT: RUN THIS CELL IN ORDER TO IMPORT YOUR KAGGLE DATA SOURCES,\n",
        "# THEN FEEL FREE TO DELETE THIS CELL.\n",
        "# NOTE: THIS NOTEBOOK ENVIRONMENT DIFFERS FROM KAGGLE'S PYTHON\n",
        "# ENVIRONMENT SO THERE MAY BE MISSING LIBRARIES USED BY YOUR\n",
        "# NOTEBOOK.\n",
        "\n",
        "child_mind_institute_problematic_internet_use_path = kagglehub.competition_download('child-mind-institute-problematic-internet-use')\n",
        "\n",
        "print('Data source import complete.')\n"
      ],
      "metadata": {
        "id": "TOQzDQNWdcPF"
      },
      "cell_type": "code",
      "outputs": [],
      "execution_count": null
    },
    {
      "cell_type": "code",
      "source": [
        "import numpy as np\n",
        "import pandas as pd\n",
        "import os\n",
        "import random\n",
        "from sklearn.base import clone\n",
        "from sklearn.metrics import cohen_kappa_score\n",
        "from sklearn.model_selection import StratifiedKFold\n",
        "from scipy.optimize import minimize\n",
        "from concurrent.futures import ThreadPoolExecutor\n",
        "from tqdm import tqdm\n",
        "from colorama import Fore, Style\n",
        "from IPython.display import clear_output\n",
        "import warnings\n",
        "from lightgbm import LGBMRegressor\n",
        "from xgboost import XGBRegressor\n",
        "from catboost import CatBoostRegressor\n",
        "from sklearn.ensemble import VotingRegressor\n",
        "from sklearn.impute import SimpleImputer\n",
        "from imblearn.over_sampling import SMOTE\n",
        "\n",
        "import matplotlib.pyplot as plt\n",
        "from sklearn.metrics import confusion_matrix, ConfusionMatrixDisplay, classification_report\n",
        "import seaborn as sns\n",
        "from matplotlib.ticker import PercentFormatter"
      ],
      "metadata": {
        "trusted": true,
        "execution": {
          "iopub.status.busy": "2024-12-19T15:30:50.30949Z",
          "iopub.execute_input": "2024-12-19T15:30:50.309866Z",
          "iopub.status.idle": "2024-12-19T15:30:58.387225Z",
          "shell.execute_reply.started": "2024-12-19T15:30:50.30982Z",
          "shell.execute_reply": "2024-12-19T15:30:58.386408Z"
        },
        "id": "4HT_xW1QdcPG"
      },
      "outputs": [],
      "execution_count": null
    },
    {
      "cell_type": "markdown",
      "source": [
        "# Data Preprocessing"
      ],
      "metadata": {
        "id": "f1ijLaWZdcPH"
      }
    },
    {
      "cell_type": "code",
      "source": [
        "# function to read data file\n",
        "def process_file(filename, dirname):\n",
        "    df = pd.read_parquet(os.path.join(dirname, filename, 'part-0.parquet'))\n",
        "    df.drop('step', axis=1, inplace=True)\n",
        "    return df.describe().values.reshape(-1), filename.split('=')[1]\n",
        "\n",
        "def load_time_series(dirname) -> pd.DataFrame:\n",
        "    ids = os.listdir(dirname)\n",
        "    with ThreadPoolExecutor() as executor:\n",
        "        results = list(tqdm(executor.map(lambda fname: process_file(fname, dirname), ids), total=len(ids)))\n",
        "    stats, indexes = zip(*results)\n",
        "    df = pd.DataFrame(stats, columns=[f\"stat_{i}\" for i in range(len(stats[0]))])\n",
        "    df['id'] = indexes\n",
        "    return df"
      ],
      "metadata": {
        "trusted": true,
        "execution": {
          "iopub.status.busy": "2024-12-19T15:30:58.388586Z",
          "iopub.execute_input": "2024-12-19T15:30:58.389047Z",
          "iopub.status.idle": "2024-12-19T15:30:58.39524Z",
          "shell.execute_reply.started": "2024-12-19T15:30:58.389017Z",
          "shell.execute_reply": "2024-12-19T15:30:58.394363Z"
        },
        "id": "Z7XGJxykdcPI"
      },
      "outputs": [],
      "execution_count": null
    },
    {
      "cell_type": "code",
      "source": [
        "# Load datasets\n",
        "train = pd.read_csv('/kaggle/input/child-mind-institute-problematic-internet-use/train.csv')\n",
        "test = pd.read_csv('/kaggle/input/child-mind-institute-problematic-internet-use/test.csv')\n",
        "sample = pd.read_csv('/kaggle/input/child-mind-institute-problematic-internet-use/sample_submission.csv')"
      ],
      "metadata": {
        "trusted": true,
        "execution": {
          "iopub.status.busy": "2024-12-19T15:30:58.396269Z",
          "iopub.execute_input": "2024-12-19T15:30:58.396526Z",
          "iopub.status.idle": "2024-12-19T15:30:58.490989Z",
          "shell.execute_reply.started": "2024-12-19T15:30:58.396492Z",
          "shell.execute_reply": "2024-12-19T15:30:58.490265Z"
        },
        "id": "MrnNOtjDdcPI"
      },
      "outputs": [],
      "execution_count": null
    },
    {
      "cell_type": "code",
      "source": [
        "print(train.shape)\n",
        "train.head()"
      ],
      "metadata": {
        "trusted": true,
        "execution": {
          "iopub.status.busy": "2024-12-19T15:30:58.492628Z",
          "iopub.execute_input": "2024-12-19T15:30:58.49289Z",
          "iopub.status.idle": "2024-12-19T15:30:58.536948Z",
          "shell.execute_reply.started": "2024-12-19T15:30:58.492864Z",
          "shell.execute_reply": "2024-12-19T15:30:58.536141Z"
        },
        "id": "6viYB1UZdcPJ"
      },
      "outputs": [],
      "execution_count": null
    },
    {
      "cell_type": "code",
      "source": [
        "print(test.shape)\n",
        "test.head()"
      ],
      "metadata": {
        "trusted": true,
        "execution": {
          "iopub.status.busy": "2024-12-19T15:30:58.53788Z",
          "iopub.execute_input": "2024-12-19T15:30:58.538118Z",
          "iopub.status.idle": "2024-12-19T15:30:58.557862Z",
          "shell.execute_reply.started": "2024-12-19T15:30:58.538093Z",
          "shell.execute_reply": "2024-12-19T15:30:58.557129Z"
        },
        "id": "9wDsffX1dcPJ"
      },
      "outputs": [],
      "execution_count": null
    },
    {
      "cell_type": "code",
      "source": [
        "print(sample.shape)\n",
        "sample.head()"
      ],
      "metadata": {
        "trusted": true,
        "execution": {
          "iopub.status.busy": "2024-12-19T15:30:58.558915Z",
          "iopub.execute_input": "2024-12-19T15:30:58.559335Z",
          "iopub.status.idle": "2024-12-19T15:30:58.575625Z",
          "shell.execute_reply.started": "2024-12-19T15:30:58.559292Z",
          "shell.execute_reply": "2024-12-19T15:30:58.57475Z"
        },
        "id": "T00JotP8dcPJ"
      },
      "outputs": [],
      "execution_count": null
    },
    {
      "cell_type": "markdown",
      "source": [
        "## Visualization data in train"
      ],
      "metadata": {
        "id": "G-wn3-_rdcPK"
      }
    },
    {
      "cell_type": "code",
      "source": [
        "# (Bar Chart)\n",
        "plt.figure(figsize=(8, 5))\n",
        "sns.countplot(x=train['sii'], palette='coolwarm')\n",
        "plt.title('Distribution of Target Variable (sii)')\n",
        "plt.xlabel('sii')\n",
        "plt.ylabel('Frequency')\n",
        "plt.show()"
      ],
      "metadata": {
        "trusted": true,
        "execution": {
          "iopub.status.busy": "2024-12-19T15:30:58.5769Z",
          "iopub.execute_input": "2024-12-19T15:30:58.577465Z",
          "iopub.status.idle": "2024-12-19T15:30:58.885254Z",
          "shell.execute_reply.started": "2024-12-19T15:30:58.577425Z",
          "shell.execute_reply": "2024-12-19T15:30:58.884442Z"
        },
        "id": "EN1g3gsXdcPK"
      },
      "outputs": [],
      "execution_count": null
    },
    {
      "cell_type": "code",
      "source": [
        "# Keep samples with non-null values in column 'sii'\n",
        "supervised_usable = train.dropna(subset=['sii'])\n",
        "\n",
        "# Calculate the number of missing values and the missing data rate for each column\n",
        "missing_count = supervised_usable.isnull().sum().reset_index()\n",
        "missing_count.columns = ['feature', 'null_count']\n",
        "missing_count['null_ratio'] = missing_count['null_count'] / len(supervised_usable)\n",
        "missing_count = missing_count.sort_values('null_count', ascending=False)\n",
        "\n",
        "# Draw a horizontal bar chart showing the ratio of missing and available data\n",
        "plt.figure(figsize=(6, 15))\n",
        "plt.title(f'Missing values over the {len(supervised_usable)} samples which have a label sii')\n",
        "\n",
        "# Missing part (coral color)\n",
        "plt.barh(np.arange(len(missing_count)),\n",
        "         missing_count['null_ratio'],\n",
        "         color='coral', label='missing')\n",
        "\n",
        "# Available part (darkseagreen color)\n",
        "plt.barh(np.arange(len(missing_count)),\n",
        "         1 - missing_count['null_ratio'],\n",
        "         left=missing_count['null_ratio'],\n",
        "         color='darkseagreen', label='available')\n",
        "\n",
        "# Customize y and x axis display\n",
        "plt.yticks(np.arange(len(missing_count)), missing_count['feature'])\n",
        "plt.gca().xaxis.set_major_formatter(PercentFormatter(xmax=1, decimals=0))\n",
        "plt.xlim(0, 1)\n",
        "plt.legend()\n",
        "plt.show()"
      ],
      "metadata": {
        "trusted": true,
        "execution": {
          "iopub.status.busy": "2024-12-19T15:30:58.886424Z",
          "iopub.execute_input": "2024-12-19T15:30:58.886764Z",
          "iopub.status.idle": "2024-12-19T15:30:59.849879Z",
          "shell.execute_reply.started": "2024-12-19T15:30:58.886722Z",
          "shell.execute_reply": "2024-12-19T15:30:59.84877Z"
        },
        "id": "oTk6-a5UdcPK"
      },
      "outputs": [],
      "execution_count": null
    },
    {
      "cell_type": "code",
      "source": [
        "# (Pie Chart) for 'Basic_Demos-Enroll_Season' column\n",
        "plt.figure(figsize=(5, 5))\n",
        "train['Basic_Demos-Enroll_Season'].value_counts().plot.pie(\n",
        "    autopct='%1.1f%%',\n",
        "    startangle=90,\n",
        "    cmap='Set2',\n",
        "    #wedgeprops={'edgecolor': 'black'}\n",
        ")\n",
        "plt.title('Enrollment Season Distribution', fontsize=14)\n",
        "plt.ylabel('')  # Remove the label on y axis\n",
        "plt.show()"
      ],
      "metadata": {
        "trusted": true,
        "execution": {
          "iopub.status.busy": "2024-12-19T15:30:59.851084Z",
          "iopub.execute_input": "2024-12-19T15:30:59.851358Z",
          "iopub.status.idle": "2024-12-19T15:30:59.999212Z",
          "shell.execute_reply.started": "2024-12-19T15:30:59.85133Z",
          "shell.execute_reply": "2024-12-19T15:30:59.998273Z"
        },
        "id": "gtXmIOKHdcPK"
      },
      "outputs": [],
      "execution_count": null
    },
    {
      "cell_type": "code",
      "source": [
        "# Pie Chart for 'Basic_Demos-Sex' column\n",
        "plt.figure(figsize=(5, 5))  # Change size of chart\n",
        "train['Basic_Demos-Sex'].value_counts().plot.pie(\n",
        "    autopct='%1.1f%%',\n",
        "    startangle=90,\n",
        "    cmap='Set2',\n",
        "    labels=['Girl', 'Boy'],  # Thêm nhãn cho các phần\n",
        ")\n",
        "plt.title('Sex Distribution', fontsize=14)\n",
        "plt.ylabel('')  # Remove the label on y axis\n",
        "plt.show()"
      ],
      "metadata": {
        "trusted": true,
        "execution": {
          "iopub.status.busy": "2024-12-19T15:31:00.00371Z",
          "iopub.execute_input": "2024-12-19T15:31:00.004434Z",
          "iopub.status.idle": "2024-12-19T15:31:00.095397Z",
          "shell.execute_reply.started": "2024-12-19T15:31:00.004403Z",
          "shell.execute_reply": "2024-12-19T15:31:00.094592Z"
        },
        "id": "ZFX1W-8_dcPL"
      },
      "outputs": [],
      "execution_count": null
    },
    {
      "cell_type": "code",
      "source": [
        "# sii distribution chart by gender\n",
        "\n",
        "# initialize target_labels\n",
        "target_labels = ['None', 'Mild', 'Moderate', 'Severe']\n",
        "\n",
        "# Tạo figure và subplots\n",
        "_, axs = plt.subplots(2, 1, sharex=True, sharey=True, figsize=(8, 6))\n",
        "\n",
        "for sex in range(2):\n",
        "    ax = axs.ravel()[sex]\n",
        "\n",
        "    filtered = train[train['Basic_Demos-Sex'] == sex]\n",
        "\n",
        "    vc = filtered['sii'].value_counts(normalize=True)\n",
        "\n",
        "    ax.bar(vc.index,\n",
        "           vc.values,\n",
        "           color=['green', 'coral'][sex],\n",
        "           label=['boys', 'girls'][sex])\n",
        "\n",
        "    # Đặt nhãn và trục\n",
        "    ax.set_xticks(np.arange(len(target_labels)))  # Đặt vị trí trên trục x\n",
        "    ax.set_xticklabels(target_labels)  # Đặt nhãn cho trục x\n",
        "    ax.yaxis.set_major_formatter(PercentFormatter(xmax=1, decimals=0))\n",
        "    ax.set_ylabel('Proportion (%)')\n",
        "    ax.legend()\n",
        "\n",
        "# Đặt tiêu đề và nhãn trục x\n",
        "plt.suptitle('Target Distribution by Gender')\n",
        "axs.ravel()[1].set_xlabel('Severity Impairment Index (sii)')\n",
        "plt.tight_layout()\n",
        "plt.show()\n"
      ],
      "metadata": {
        "trusted": true,
        "execution": {
          "iopub.status.busy": "2024-12-19T15:31:00.096885Z",
          "iopub.execute_input": "2024-12-19T15:31:00.097229Z",
          "iopub.status.idle": "2024-12-19T15:31:00.386864Z",
          "shell.execute_reply.started": "2024-12-19T15:31:00.097179Z",
          "shell.execute_reply": "2024-12-19T15:31:00.385922Z"
        },
        "id": "HhUj1D1ZdcPL"
      },
      "outputs": [],
      "execution_count": null
    },
    {
      "cell_type": "code",
      "source": [
        "# Chỉ lấy các cột số\n",
        "numeric_data = train.select_dtypes(include=['float64', 'int64'])\n",
        "\n",
        "# Ma trận tương quan\n",
        "correlation_matrix = numeric_data.corr()\n",
        "\n",
        "# Heatmap\n",
        "plt.figure(figsize=(30, 30))\n",
        "sns.heatmap(correlation_matrix, annot=False, cmap='Set2')\n",
        "plt.title('Correlation Matrix')\n",
        "plt.show()\n"
      ],
      "metadata": {
        "trusted": true,
        "execution": {
          "iopub.status.busy": "2024-12-19T15:31:00.38809Z",
          "iopub.execute_input": "2024-12-19T15:31:00.388453Z",
          "iopub.status.idle": "2024-12-19T15:31:01.970893Z",
          "shell.execute_reply.started": "2024-12-19T15:31:00.388412Z",
          "shell.execute_reply": "2024-12-19T15:31:01.969848Z"
        },
        "id": "4Eska_ZAdcPL"
      },
      "outputs": [],
      "execution_count": null
    },
    {
      "cell_type": "markdown",
      "source": [
        "## Merge Data"
      ],
      "metadata": {
        "id": "xeGUNN0xdcPL"
      }
    },
    {
      "cell_type": "code",
      "source": [
        "# Load time series data\n",
        "train_ts = load_time_series(\"/kaggle/input/child-mind-institute-problematic-internet-use/series_train.parquet\")\n",
        "test_ts = load_time_series(\"/kaggle/input/child-mind-institute-problematic-internet-use/series_test.parquet\")"
      ],
      "metadata": {
        "trusted": true,
        "execution": {
          "iopub.status.busy": "2024-12-19T15:31:01.972057Z",
          "iopub.execute_input": "2024-12-19T15:31:01.97234Z",
          "iopub.status.idle": "2024-12-19T15:32:18.12925Z",
          "shell.execute_reply.started": "2024-12-19T15:31:01.972311Z",
          "shell.execute_reply": "2024-12-19T15:32:18.128196Z"
        },
        "id": "3PCBpf9AdcPM"
      },
      "outputs": [],
      "execution_count": null
    },
    {
      "cell_type": "code",
      "source": [
        "print(train_ts.shape)\n",
        "train_ts.head()"
      ],
      "metadata": {
        "trusted": true,
        "execution": {
          "iopub.status.busy": "2024-12-19T15:32:18.130386Z",
          "iopub.execute_input": "2024-12-19T15:32:18.130679Z",
          "iopub.status.idle": "2024-12-19T15:32:18.156733Z",
          "shell.execute_reply.started": "2024-12-19T15:32:18.130649Z",
          "shell.execute_reply": "2024-12-19T15:32:18.155738Z"
        },
        "id": "eCTNqegDdcPM"
      },
      "outputs": [],
      "execution_count": null
    },
    {
      "cell_type": "code",
      "source": [
        "print(test_ts.shape)\n",
        "test_ts.head()"
      ],
      "metadata": {
        "trusted": true,
        "execution": {
          "iopub.status.busy": "2024-12-19T15:32:18.157909Z",
          "iopub.execute_input": "2024-12-19T15:32:18.158189Z",
          "iopub.status.idle": "2024-12-19T15:32:18.186586Z",
          "shell.execute_reply.started": "2024-12-19T15:32:18.158159Z",
          "shell.execute_reply": "2024-12-19T15:32:18.185643Z"
        },
        "id": "68NH7W7EdcPM"
      },
      "outputs": [],
      "execution_count": null
    },
    {
      "cell_type": "code",
      "source": [
        "# filter data to get features before merging training set, test with time series\n",
        "feature_col = test.columns.tolist()\n",
        "feature_col.remove(\"id\")          # remove 'id' column\n",
        "feature_col.append(\"sii\")\n",
        "print(feature_col)\n",
        "print(\"There are \", len(feature_col), \"features.\")"
      ],
      "metadata": {
        "trusted": true,
        "execution": {
          "iopub.status.busy": "2024-12-19T15:32:18.188085Z",
          "iopub.execute_input": "2024-12-19T15:32:18.188368Z",
          "iopub.status.idle": "2024-12-19T15:32:18.201062Z",
          "shell.execute_reply.started": "2024-12-19T15:32:18.18834Z",
          "shell.execute_reply": "2024-12-19T15:32:18.200272Z"
        },
        "id": "nKStZgjIdcPM"
      },
      "outputs": [],
      "execution_count": null
    },
    {
      "cell_type": "code",
      "source": [
        "# merge data train, test với time series\n",
        "train = pd.merge(train, train_ts, how=\"left\", on='id')\n",
        "test = pd.merge(test, test_ts, how=\"left\", on='id')\n",
        "train = train.dropna(thresh=10, axis=0)                     # remove row have valid values, not NaN < 10\n",
        "train = train.drop('id', axis=1)\n",
        "test = test.drop('id', axis=1)"
      ],
      "metadata": {
        "trusted": true,
        "execution": {
          "iopub.status.busy": "2024-12-19T15:32:18.20185Z",
          "iopub.execute_input": "2024-12-19T15:32:18.202062Z",
          "iopub.status.idle": "2024-12-19T15:32:18.23731Z",
          "shell.execute_reply.started": "2024-12-19T15:32:18.202039Z",
          "shell.execute_reply": "2024-12-19T15:32:18.236535Z"
        },
        "id": "lNZnA5sRdcPM"
      },
      "outputs": [],
      "execution_count": null
    },
    {
      "cell_type": "code",
      "source": [
        "print(train.shape)\n",
        "train.head()"
      ],
      "metadata": {
        "trusted": true,
        "execution": {
          "iopub.status.busy": "2024-12-19T15:32:18.238318Z",
          "iopub.execute_input": "2024-12-19T15:32:18.238564Z",
          "iopub.status.idle": "2024-12-19T15:32:18.260521Z",
          "shell.execute_reply.started": "2024-12-19T15:32:18.238538Z",
          "shell.execute_reply": "2024-12-19T15:32:18.25964Z"
        },
        "id": "_kXDsQBGdcPM"
      },
      "outputs": [],
      "execution_count": null
    },
    {
      "cell_type": "code",
      "source": [
        "print(test.shape)\n",
        "test.head()"
      ],
      "metadata": {
        "trusted": true,
        "execution": {
          "iopub.status.busy": "2024-12-19T15:32:18.26156Z",
          "iopub.execute_input": "2024-12-19T15:32:18.261817Z",
          "iopub.status.idle": "2024-12-19T15:32:18.290913Z",
          "shell.execute_reply.started": "2024-12-19T15:32:18.261791Z",
          "shell.execute_reply": "2024-12-19T15:32:18.289815Z"
        },
        "id": "MlbmksApdcPM"
      },
      "outputs": [],
      "execution_count": null
    },
    {
      "cell_type": "code",
      "source": [
        "# đọc data time series\n",
        "time_series_cols = train_ts.columns.tolist()\n",
        "time_series_cols.remove(\"id\")"
      ],
      "metadata": {
        "trusted": true,
        "execution": {
          "iopub.status.busy": "2024-12-19T15:32:18.291854Z",
          "iopub.execute_input": "2024-12-19T15:32:18.292149Z",
          "iopub.status.idle": "2024-12-19T15:32:18.299948Z",
          "shell.execute_reply.started": "2024-12-19T15:32:18.292124Z",
          "shell.execute_reply": "2024-12-19T15:32:18.299096Z"
        },
        "id": "s6PNo-5ldcPM"
      },
      "outputs": [],
      "execution_count": null
    },
    {
      "cell_type": "code",
      "source": [
        "print(time_series_cols)\n",
        "print(len(time_series_cols))"
      ],
      "metadata": {
        "trusted": true,
        "execution": {
          "iopub.status.busy": "2024-12-19T15:32:18.301069Z",
          "iopub.execute_input": "2024-12-19T15:32:18.301326Z",
          "iopub.status.idle": "2024-12-19T15:32:18.31245Z",
          "shell.execute_reply.started": "2024-12-19T15:32:18.3013Z",
          "shell.execute_reply": "2024-12-19T15:32:18.311625Z"
        },
        "id": "l6YRpZefdcPM"
      },
      "outputs": [],
      "execution_count": null
    },
    {
      "cell_type": "code",
      "source": [
        "# lấy đặc điểm đã lưu ở trên - chỉ chạy 1 lần nếu không sẽ bị lặp\n",
        "featuresCols = feature_col\n",
        "print(\"Before add time series, there are\", len(featuresCols),\"features.\")\n",
        "featuresCols += time_series_cols\n",
        "# print(featuresCols)\n",
        "print(\"After add time series, there are \",len(featuresCols), \"features.\")"
      ],
      "metadata": {
        "trusted": true,
        "execution": {
          "iopub.status.busy": "2024-12-19T15:32:18.313507Z",
          "iopub.execute_input": "2024-12-19T15:32:18.314419Z",
          "iopub.status.idle": "2024-12-19T15:32:18.32338Z",
          "shell.execute_reply.started": "2024-12-19T15:32:18.314389Z",
          "shell.execute_reply": "2024-12-19T15:32:18.322635Z"
        },
        "id": "QsTI48Q0dcPN"
      },
      "outputs": [],
      "execution_count": null
    },
    {
      "cell_type": "code",
      "source": [
        "# lọc bảng train, chỉ lấy các cột trong featuresCols, và xóa các hàng có sii không xác định\n",
        "train = train[featuresCols]\n",
        "train = train.dropna(subset=['sii'])\n",
        "print(train.shape)\n",
        "train.head()"
      ],
      "metadata": {
        "trusted": true,
        "execution": {
          "iopub.status.busy": "2024-12-19T15:32:18.32433Z",
          "iopub.execute_input": "2024-12-19T15:32:18.324658Z",
          "iopub.status.idle": "2024-12-19T15:32:18.361287Z",
          "shell.execute_reply.started": "2024-12-19T15:32:18.32462Z",
          "shell.execute_reply": "2024-12-19T15:32:18.360319Z"
        },
        "id": "QcnQkZl9dcPN"
      },
      "outputs": [],
      "execution_count": null
    },
    {
      "cell_type": "code",
      "source": [
        "# lọc các cột có kiểu dữ liệu là string để đổi thành categorical\n",
        "data_dictionary = pd.read_csv('/kaggle/input/child-mind-institute-problematic-internet-use/data_dictionary.csv')\n",
        "data_dictionary = data_dictionary[[\"Field\", \"Type\"]]\n",
        "filtered_data = data_dictionary[data_dictionary['Type'] == 'str']\n",
        "\n",
        "# lọc các cột không có trong list featuresCols\n",
        "filtered_data = filtered_data[filtered_data['Field'].isin(featuresCols)]\n",
        "\n",
        "print(filtered_data)\n",
        "filtered_data.shape"
      ],
      "metadata": {
        "trusted": true,
        "execution": {
          "iopub.status.busy": "2024-12-19T15:32:18.362347Z",
          "iopub.execute_input": "2024-12-19T15:32:18.36259Z",
          "iopub.status.idle": "2024-12-19T15:32:18.377983Z",
          "shell.execute_reply.started": "2024-12-19T15:32:18.362564Z",
          "shell.execute_reply": "2024-12-19T15:32:18.376931Z"
        },
        "id": "XnwwNdrwdcPN"
      },
      "outputs": [],
      "execution_count": null
    },
    {
      "cell_type": "code",
      "source": [
        "category_list = filtered_data['Field'].tolist()\n",
        "print(category_list)"
      ],
      "metadata": {
        "trusted": true,
        "execution": {
          "iopub.status.busy": "2024-12-19T15:32:18.378965Z",
          "iopub.execute_input": "2024-12-19T15:32:18.379286Z",
          "iopub.status.idle": "2024-12-19T15:32:18.384322Z",
          "shell.execute_reply.started": "2024-12-19T15:32:18.379258Z",
          "shell.execute_reply": "2024-12-19T15:32:18.383536Z"
        },
        "id": "xXf4tfFDdcPN"
      },
      "outputs": [],
      "execution_count": null
    },
    {
      "cell_type": "code",
      "source": [
        "# chuyển các giá trị bị NaN thành Missing và chuyển kiểu dữ liệu thành category\n",
        "def update(df):\n",
        "    global category_list\n",
        "    for c in category_list:\n",
        "        df[c] = df[c].fillna('Missing')\n",
        "        df[c] = df[c].astype('category')\n",
        "    return df\n",
        "\n",
        "train = update(train)\n",
        "test = update(test)"
      ],
      "metadata": {
        "trusted": true,
        "execution": {
          "iopub.status.busy": "2024-12-19T15:32:18.385238Z",
          "iopub.execute_input": "2024-12-19T15:32:18.385478Z",
          "iopub.status.idle": "2024-12-19T15:32:18.422461Z",
          "shell.execute_reply.started": "2024-12-19T15:32:18.385453Z",
          "shell.execute_reply": "2024-12-19T15:32:18.421882Z"
        },
        "id": "ZEa7luT1dcPN"
      },
      "outputs": [],
      "execution_count": null
    },
    {
      "cell_type": "code",
      "source": [
        "train.head()"
      ],
      "metadata": {
        "trusted": true,
        "execution": {
          "iopub.status.busy": "2024-12-19T15:32:18.423391Z",
          "iopub.execute_input": "2024-12-19T15:32:18.423626Z",
          "iopub.status.idle": "2024-12-19T15:32:18.447462Z",
          "shell.execute_reply.started": "2024-12-19T15:32:18.423602Z",
          "shell.execute_reply": "2024-12-19T15:32:18.446569Z"
        },
        "id": "rUc1-awRdcPN"
      },
      "outputs": [],
      "execution_count": null
    },
    {
      "cell_type": "code",
      "source": [
        "# tạo hàm ánh xạ các giá trị string thành các chuỗi số\n",
        "def create_mapping(column, dataset):\n",
        "    unique_values = dataset[column].unique()\n",
        "    return {value: idx for idx, value in enumerate(unique_values)}\n",
        "\n",
        "for col in category_list:\n",
        "    # Nếu cột đã là số nguyên, không cần ánh xạ lại\n",
        "    if train[col].dtype.kind in 'i':\n",
        "        print(f\"{col} is already integer. Skipping mapping.\")\n",
        "        continue\n",
        "\n",
        "    mapping = create_mapping(col, train)\n",
        "    mapping_test = create_mapping(col, test)\n",
        "    print(\"Train: \", col, \"have the map \", mapping)\n",
        "    print(\"Test: \", col, \"have the map \", mapping_test)\n",
        "    train[col] = train[col].replace(mapping).astype(int)\n",
        "    test[col] = test[col].replace(mapping_test).astype(int)"
      ],
      "metadata": {
        "trusted": true,
        "execution": {
          "iopub.status.busy": "2024-12-19T15:32:18.452148Z",
          "iopub.execute_input": "2024-12-19T15:32:18.452423Z",
          "iopub.status.idle": "2024-12-19T15:32:18.502487Z",
          "shell.execute_reply.started": "2024-12-19T15:32:18.452395Z",
          "shell.execute_reply": "2024-12-19T15:32:18.50156Z"
        },
        "id": "tEbuKxg-dcPN"
      },
      "outputs": [],
      "execution_count": null
    },
    {
      "cell_type": "code",
      "source": [
        "def quadratic_weighted_kappa(y_true, y_pred):\n",
        "    return cohen_kappa_score(y_true, y_pred, weights='quadratic')\n",
        "\n",
        "def threshold_Rounder(oof_non_rounded, thresholds):\n",
        "    return np.where(oof_non_rounded < thresholds[0], 0,\n",
        "                    np.where(oof_non_rounded < thresholds[1], 1,\n",
        "                             np.where(oof_non_rounded < thresholds[2], 2, 3)))\n",
        "\n",
        "def evaluate_predictions(thresholds, y_true, oof_non_rounded):\n",
        "    rounded_p = threshold_Rounder(oof_non_rounded, thresholds)\n",
        "    return -quadratic_weighted_kappa(y_true, rounded_p)"
      ],
      "metadata": {
        "_uuid": "8f2839f25d086af736a60e9eeb907d3b93b6e0e5",
        "_cell_guid": "b1076dfc-b9ad-4769-8c92-a6c4dae69d19",
        "trusted": true,
        "execution": {
          "iopub.status.busy": "2024-12-19T15:32:18.503821Z",
          "iopub.execute_input": "2024-12-19T15:32:18.504225Z",
          "iopub.status.idle": "2024-12-19T15:32:18.510649Z",
          "shell.execute_reply.started": "2024-12-19T15:32:18.504182Z",
          "shell.execute_reply": "2024-12-19T15:32:18.509626Z"
        },
        "id": "m8EGInr5dcPO"
      },
      "outputs": [],
      "execution_count": null
    },
    {
      "cell_type": "markdown",
      "source": [
        "# Model Training"
      ],
      "metadata": {
        "id": "vfyXJ40KdcPO"
      }
    },
    {
      "cell_type": "markdown",
      "source": [
        "## Processing data for train, test and validation"
      ],
      "metadata": {
        "id": "vty7x09IdcPO"
      }
    },
    {
      "cell_type": "code",
      "source": [
        "# Set random seeds for reproducibility\n",
        "SEED = 42\n",
        "np.random.seed(SEED)\n",
        "random.seed(SEED)\n",
        "\n",
        "# Suppress warnings\n",
        "warnings.filterwarnings('ignore')\n",
        "\n",
        "# Pandas option for displaying all columns\n",
        "pd.options.display.max_columns = None\n",
        "\n",
        "# Constants\n",
        "n_splits = 5"
      ],
      "metadata": {
        "trusted": true,
        "execution": {
          "iopub.status.busy": "2024-12-19T15:32:18.511668Z",
          "iopub.execute_input": "2024-12-19T15:32:18.511915Z",
          "iopub.status.idle": "2024-12-19T15:32:18.528803Z",
          "shell.execute_reply.started": "2024-12-19T15:32:18.51189Z",
          "shell.execute_reply": "2024-12-19T15:32:18.527993Z"
        },
        "id": "BKm8T_YxdcPO"
      },
      "outputs": [],
      "execution_count": null
    },
    {
      "cell_type": "code",
      "source": [
        "X = train.drop(['sii'], axis=1).values         # dữ liệu\n",
        "y = train['sii'].values                        # label\n",
        "print(X.shape)\n",
        "print(y.shape)"
      ],
      "metadata": {
        "trusted": true,
        "execution": {
          "iopub.status.busy": "2024-12-19T15:32:18.530073Z",
          "iopub.execute_input": "2024-12-19T15:32:18.530706Z",
          "iopub.status.idle": "2024-12-19T15:32:18.547884Z",
          "shell.execute_reply.started": "2024-12-19T15:32:18.530654Z",
          "shell.execute_reply": "2024-12-19T15:32:18.546713Z"
        },
        "id": "gltQp_kndcPO"
      },
      "outputs": [],
      "execution_count": null
    },
    {
      "cell_type": "code",
      "source": [
        "# lấy các giá trị trong dataframe test và chuyển thành mảng test_data\n",
        "test_data = test.values\n",
        "print(test_data.shape)"
      ],
      "metadata": {
        "trusted": true,
        "execution": {
          "iopub.status.busy": "2024-12-19T15:32:18.549009Z",
          "iopub.execute_input": "2024-12-19T15:32:18.549436Z",
          "iopub.status.idle": "2024-12-19T15:32:18.555034Z",
          "shell.execute_reply.started": "2024-12-19T15:32:18.549395Z",
          "shell.execute_reply": "2024-12-19T15:32:18.554139Z"
        },
        "id": "JfzZmndhdcPO"
      },
      "outputs": [],
      "execution_count": null
    },
    {
      "cell_type": "code",
      "source": [
        "imputer = SimpleImputer(strategy='mean')\n",
        "X = imputer.fit_transform(X)\n",
        "test_data = imputer.transform(test_data)"
      ],
      "metadata": {
        "trusted": true,
        "execution": {
          "iopub.status.busy": "2024-12-19T15:32:18.556169Z",
          "iopub.execute_input": "2024-12-19T15:32:18.556503Z",
          "iopub.status.idle": "2024-12-19T15:32:18.583953Z",
          "shell.execute_reply.started": "2024-12-19T15:32:18.556473Z",
          "shell.execute_reply": "2024-12-19T15:32:18.583199Z"
        },
        "id": "fBqGlScRdcPZ"
      },
      "outputs": [],
      "execution_count": null
    },
    {
      "cell_type": "code",
      "source": [
        "X_res, y_res = X, y"
      ],
      "metadata": {
        "trusted": true,
        "execution": {
          "iopub.status.busy": "2024-12-19T15:32:18.584918Z",
          "iopub.execute_input": "2024-12-19T15:32:18.58516Z",
          "iopub.status.idle": "2024-12-19T15:32:18.589344Z",
          "shell.execute_reply.started": "2024-12-19T15:32:18.585136Z",
          "shell.execute_reply": "2024-12-19T15:32:18.588515Z"
        },
        "id": "MYQiykjudcPZ"
      },
      "outputs": [],
      "execution_count": null
    },
    {
      "cell_type": "code",
      "source": [
        "# chia dữ liệu đánh giá, để giảm overfitting\n",
        "SKF = StratifiedKFold(n_splits=n_splits, shuffle=True, random_state=SEED)\n",
        "train_S = []\n",
        "test_S = []\n",
        "oof_non_rounded = np.zeros(len(y_res), dtype=float)\n",
        "oof_rounded = np.zeros(len(y_res), dtype=int)\n",
        "test_preds = np.zeros((len(test_data), n_splits))"
      ],
      "metadata": {
        "trusted": true,
        "execution": {
          "iopub.status.busy": "2024-12-19T15:32:18.590329Z",
          "iopub.execute_input": "2024-12-19T15:32:18.590588Z",
          "iopub.status.idle": "2024-12-19T15:32:18.601984Z",
          "shell.execute_reply.started": "2024-12-19T15:32:18.590564Z",
          "shell.execute_reply": "2024-12-19T15:32:18.601108Z"
        },
        "id": "mRKpvgSEdcPZ"
      },
      "outputs": [],
      "execution_count": null
    },
    {
      "cell_type": "markdown",
      "source": [
        "## Create parameter to create model"
      ],
      "metadata": {
        "id": "1JoZKezLdcPa"
      }
    },
    {
      "cell_type": "markdown",
      "source": [
        "* Various model are used, include: LightGBM, XGBoost, CatBosst\n",
        "  * LightGBM: A gradient boosting framework known for its speed and efficiency when working with large datasets.\n",
        "  * XGBoost: Another powerful gradient boosting model, used for structured data.\n",
        "  * CatBoost: Optimized for categorical features without complex preprocessing.\n",
        "  * Voting Regressor: An ensemble model that combines predictions from LightGBM, XGBoost, and CatBoost to leverage the strengths of each model to produce more accurate results.\n",
        "    \n",
        "* Cross-Validation: Uses Stratified K-Folds cross-validation to split the data into training and testing sets, ensuring balanced class distribution in each fold. it is suitable for problems with imbalanced data between classes\n",
        "* Threshold Optimization: The minimize function from the scipy.optimize library is used to fine-tune the decision thresholds to map continuous predictions to discrete categories (None, Mild, Moderate, Severe).\n",
        "* Quadratic Weighted Kappa (QWK): The performance of the models is evaluated using QWK, a measure of the degree of agreement between predicted and actual values, while taking into account the ordinal nature of the target variable."
      ],
      "metadata": {
        "id": "Wqj2zGsMdcPa"
      }
    },
    {
      "cell_type": "code",
      "source": [
        "# Model parameters for LightGBM\n",
        "Params = {\n",
        "    'learning_rate': 0.046,\n",
        "    'max_depth': 12,\n",
        "    'num_leaves': 478,\n",
        "    'min_data_in_leaf': 13,\n",
        "    'feature_fraction': 0.893,\n",
        "    'bagging_fraction': 0.784,\n",
        "    'bagging_freq': 4,\n",
        "    'lambda_l1': 10,\n",
        "    'lambda_l2': 0.01,\n",
        "    'device': 'gpu'\n",
        "}\n",
        "\n",
        "# XGBoost parameters\n",
        "XGB_Params = {\n",
        "    'learning_rate': 0.05,\n",
        "    'max_depth': 6,\n",
        "    'n_estimators': 200,\n",
        "    'subsample': 0.8,\n",
        "    'colsample_bytree': 0.8,\n",
        "    'reg_alpha': 1,\n",
        "    'reg_lambda': 5,\n",
        "    'random_state': SEED,\n",
        "    'tree_method': 'hist',\n",
        "    'device': 'cuda'\n",
        "}\n",
        "\n",
        "# CatBoost parameters including specification of categorical features\n",
        "CatBoost_Params = {\n",
        "    'learning_rate': 0.05,\n",
        "    'depth': 6,\n",
        "    'iterations': 200,\n",
        "    'random_seed': SEED,\n",
        "    'verbose': 0,\n",
        "    'l2_leaf_reg': 100,\n",
        "    'task_type': 'GPU'\n",
        "}"
      ],
      "metadata": {
        "trusted": true,
        "execution": {
          "iopub.status.busy": "2024-12-19T15:32:18.602957Z",
          "iopub.execute_input": "2024-12-19T15:32:18.603231Z",
          "iopub.status.idle": "2024-12-19T15:32:18.613428Z",
          "shell.execute_reply.started": "2024-12-19T15:32:18.603174Z",
          "shell.execute_reply": "2024-12-19T15:32:18.61254Z"
        },
        "id": "Q5rAk5Z7dcPa"
      },
      "outputs": [],
      "execution_count": null
    },
    {
      "cell_type": "markdown",
      "source": [
        "\n",
        "\n",
        "> [IMPROVEMENT] Change weight of combine model from [4 3 4] to [20 10 15]\n",
        "\n"
      ],
      "metadata": {
        "id": "bq6E1sntkAjW"
      }
    },
    {
      "cell_type": "code",
      "source": [
        "# Create model instances\n",
        "Light = LGBMRegressor(**Params, verbose=-1, n_estimators=200)\n",
        "XGB_Model = XGBRegressor(**XGB_Params)\n",
        "CatBoost_Model = CatBoostRegressor(**CatBoost_Params)\n",
        "\n",
        "# Combine models using Voting Regressor\n",
        "voting_model = VotingRegressor(estimators=[\n",
        "    ('lightgbm', Light),\n",
        "    ('xgboost', XGB_Model),\n",
        "    ('catboost', CatBoost_Model)\n",
        "], weights=[20, 10, 15])"
      ],
      "metadata": {
        "trusted": true,
        "execution": {
          "iopub.status.busy": "2024-12-19T15:32:18.614401Z",
          "iopub.execute_input": "2024-12-19T15:32:18.614637Z",
          "iopub.status.idle": "2024-12-19T15:32:18.63632Z",
          "shell.execute_reply.started": "2024-12-19T15:32:18.614602Z",
          "shell.execute_reply": "2024-12-19T15:32:18.635157Z"
        },
        "id": "UWF9iNhLdcPa"
      },
      "outputs": [],
      "execution_count": null
    },
    {
      "cell_type": "markdown",
      "source": [
        "## Training model"
      ],
      "metadata": {
        "id": "Q1LgrYz_dcPa"
      }
    },
    {
      "cell_type": "code",
      "source": [
        "for fold, (train_idx, val_idx) in enumerate(SKF.split(X_res, y_res)):\n",
        "    X_train, X_val = X_res[train_idx], X_res[val_idx]\n",
        "    y_train, y_val = y_res[train_idx], y_res[val_idx]\n",
        "\n",
        "    # Huấn luyện mô hình\n",
        "    model = voting_model\n",
        "    model.fit(X_train, y_train)\n",
        "\n",
        "    # mô hình đưa ra dự đoán 2 tập X_train, X_val lưu nhãn vào 2 mảng y predict\n",
        "    y_train_pred = model.predict(X_train)\n",
        "    y_val_pred = model.predict(X_val)\n",
        "\n",
        "    oof_non_rounded[val_idx] = y_val_pred\n",
        "    y_val_pred_rounded = np.round(y_val_pred).astype(int)\n",
        "    oof_rounded[val_idx] = y_val_pred_rounded\n",
        "\n",
        "    train_kappa = quadratic_weighted_kappa(y_train, np.round(y_train_pred).astype(int))\n",
        "    val_kappa = quadratic_weighted_kappa(y_val, y_val_pred_rounded)\n",
        "\n",
        "    train_S.append(train_kappa)\n",
        "    test_S.append(val_kappa)\n",
        "\n",
        "    test_preds[:, fold] = model.predict(test_data)\n",
        "\n",
        "    print(f\"Fold {fold + 1} - Train QWK: {train_kappa:.4f}, Validation QWK: {val_kappa:.4f}\")"
      ],
      "metadata": {
        "trusted": true,
        "execution": {
          "iopub.status.busy": "2024-12-19T15:32:18.637401Z",
          "iopub.execute_input": "2024-12-19T15:32:18.637703Z",
          "iopub.status.idle": "2024-12-19T15:32:45.780821Z",
          "shell.execute_reply.started": "2024-12-19T15:32:18.637674Z",
          "shell.execute_reply": "2024-12-19T15:32:45.779882Z"
        },
        "id": "bLH8EMuhdcPa"
      },
      "outputs": [],
      "execution_count": null
    },
    {
      "cell_type": "code",
      "source": [
        "print(f\"Mean Train QWK --> {np.mean(train_S):.4f}\")\n",
        "print(f\"Mean Validation QWK ---> {np.mean(test_S):.4f}\")"
      ],
      "metadata": {
        "trusted": true,
        "execution": {
          "iopub.status.busy": "2024-12-19T15:32:45.781873Z",
          "iopub.execute_input": "2024-12-19T15:32:45.782205Z",
          "iopub.status.idle": "2024-12-19T15:32:45.794946Z",
          "shell.execute_reply.started": "2024-12-19T15:32:45.782166Z",
          "shell.execute_reply": "2024-12-19T15:32:45.793336Z"
        },
        "id": "btNm_H_DdcPa"
      },
      "outputs": [],
      "execution_count": null
    },
    {
      "cell_type": "markdown",
      "source": [
        "\n",
        "\n",
        "> [IMPROVEMENT] Change parameter of KappaOptimizer from x0=[0.5, 1.49, 2.5] to x0=[0.5, 1.5, 2.5]\n",
        "\n",
        "\n",
        "\n"
      ],
      "metadata": {
        "id": "0tAcuGbbiaR3"
      }
    },
    {
      "cell_type": "code",
      "source": [
        "# Optimize thresholds with Nelder-Mead method\n",
        "KappaOptimizer = minimize(evaluate_predictions,\n",
        "                          x0=[0.5, 1.5, 2.5], args=(y, oof_non_rounded),\n",
        "                          method='Nelder-Mead')\n",
        "\n",
        "assert KappaOptimizer.success, \"Optimization did not converge.\"\n",
        "oof_tuned = threshold_Rounder(oof_non_rounded, KappaOptimizer.x)\n",
        "tKappa = quadratic_weighted_kappa(y_res, oof_tuned)\n",
        "print(f\"----> || Optimized QWK SCORE :: {Fore.CYAN}{Style.BRIGHT} {tKappa:.3f}{Style.RESET_ALL}\")"
      ],
      "metadata": {
        "trusted": true,
        "execution": {
          "iopub.status.busy": "2024-12-19T15:32:45.796168Z",
          "iopub.execute_input": "2024-12-19T15:32:45.797652Z",
          "iopub.status.idle": "2024-12-19T15:32:46.241716Z",
          "shell.execute_reply.started": "2024-12-19T15:32:45.797607Z",
          "shell.execute_reply": "2024-12-19T15:32:46.2407Z"
        },
        "id": "_4_1hh0rdcPb"
      },
      "outputs": [],
      "execution_count": null
    },
    {
      "cell_type": "markdown",
      "source": [
        "\n",
        "\n",
        "> [IMPROVEMENT] Add fold_weight to calculate Threshold_Rounder\n",
        "\n"
      ],
      "metadata": {
        "id": "ibHQRLRVizol"
      }
    },
    {
      "cell_type": "code",
      "source": [
        "fold_weights = [1.25, 1.0, 1.0, 1.0, 1.0]\n",
        "tpm = test_preds.dot(fold_weights) / np.sum(fold_weights)\n",
        "tpTuned = threshold_Rounder(tpm, KappaOptimizer.x)"
      ],
      "metadata": {
        "trusted": true,
        "execution": {
          "iopub.status.busy": "2024-12-19T15:32:46.242812Z",
          "iopub.execute_input": "2024-12-19T15:32:46.243153Z",
          "iopub.status.idle": "2024-12-19T15:32:46.250085Z",
          "shell.execute_reply.started": "2024-12-19T15:32:46.243113Z",
          "shell.execute_reply": "2024-12-19T15:32:46.248906Z"
        },
        "id": "aG5u24-NdcPb"
      },
      "outputs": [],
      "execution_count": null
    },
    {
      "cell_type": "code",
      "source": [
        "# Count total misclassifications\n",
        "misclassifications = np.sum(y != oof_rounded)\n",
        "print(f\"Total wrong validation predictions in train dataset: {misclassifications}\")\n",
        "\n",
        "# Final Classification Report\n",
        "print(\"\\nClassification Report (OOF Predictions):\")\n",
        "report = classification_report(y, oof_rounded, digits=4)\n",
        "print(report)\n",
        "with open(\"classification_report.txt\", \"w\") as f:\n",
        "    f.write(report)\n",
        "\n",
        "# Confusion Matrix for Final OOF Predictions\n",
        "conf_matrix = confusion_matrix(y, oof_rounded)\n",
        "disp = ConfusionMatrixDisplay(confusion_matrix=conf_matrix, display_labels=np.unique(y))\n",
        "disp.plot(cmap=plt.cm.Blues)\n",
        "plt.title(\"Confusion Matrix (OOF Predictions)\")\n",
        "plt.savefig(\"confusion_matrix_of_model.png\")\n",
        "plt.show()"
      ],
      "metadata": {
        "trusted": true,
        "execution": {
          "iopub.status.busy": "2024-12-19T15:32:46.251716Z",
          "iopub.execute_input": "2024-12-19T15:32:46.252487Z",
          "iopub.status.idle": "2024-12-19T15:32:46.673822Z",
          "shell.execute_reply.started": "2024-12-19T15:32:46.252437Z",
          "shell.execute_reply": "2024-12-19T15:32:46.672912Z"
        },
        "id": "2pZisPD_dcPb"
      },
      "outputs": [],
      "execution_count": null
    },
    {
      "cell_type": "code",
      "source": [
        "submission = pd.DataFrame({\n",
        "        'id': sample['id'],\n",
        "        'sii': tpTuned\n",
        "})"
      ],
      "metadata": {
        "trusted": true,
        "execution": {
          "iopub.status.busy": "2024-12-19T15:32:46.674893Z",
          "iopub.execute_input": "2024-12-19T15:32:46.675141Z",
          "iopub.status.idle": "2024-12-19T15:32:46.680225Z",
          "shell.execute_reply.started": "2024-12-19T15:32:46.675115Z",
          "shell.execute_reply": "2024-12-19T15:32:46.679193Z"
        },
        "id": "6eruOijDdcPb"
      },
      "outputs": [],
      "execution_count": null
    },
    {
      "cell_type": "markdown",
      "source": [
        "# Submission Model"
      ],
      "metadata": {
        "id": "zopb1zjcdcPb"
      }
    },
    {
      "cell_type": "code",
      "source": [
        "# Save submission\n",
        "submission.to_csv('submission.csv', index=False)\n",
        "print(submission['sii'].value_counts())"
      ],
      "metadata": {
        "trusted": true,
        "execution": {
          "iopub.status.busy": "2024-12-19T15:32:46.681264Z",
          "iopub.execute_input": "2024-12-19T15:32:46.681534Z",
          "iopub.status.idle": "2024-12-19T15:32:46.695988Z",
          "shell.execute_reply.started": "2024-12-19T15:32:46.681507Z",
          "shell.execute_reply": "2024-12-19T15:32:46.694893Z"
        },
        "id": "p7Fe-yl7dcPb"
      },
      "outputs": [],
      "execution_count": null
    }
  ]
}